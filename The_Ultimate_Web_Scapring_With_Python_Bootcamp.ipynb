{
  "nbformat": 4,
  "nbformat_minor": 0,
  "metadata": {
    "colab": {
      "provenance": [],
      "collapsed_sections": [
        "3q4NEQSMTIpI",
        "OwgKUdEqWiMc",
        "eGWAglFNu-il"
      ],
      "authorship_tag": "ABX9TyM3r+Lg+RFt2NTXY9UNclhw",
      "include_colab_link": true
    },
    "kernelspec": {
      "name": "python3",
      "display_name": "Python 3"
    },
    "language_info": {
      "name": "python"
    }
  },
  "cells": [
    {
      "cell_type": "markdown",
      "metadata": {
        "id": "view-in-github",
        "colab_type": "text"
      },
      "source": [
        "<a href=\"https://colab.research.google.com/github/luhyxi/Leetcode/blob/main/The_Ultimate_Web_Scapring_With_Python_Bootcamp.ipynb\" target=\"_parent\"><img src=\"https://colab.research.google.com/assets/colab-badge.svg\" alt=\"Open In Colab\"/></a>"
      ]
    },
    {
      "cell_type": "markdown",
      "source": [
        "#4. Web Requests In Python"
      ],
      "metadata": {
        "id": "3q4NEQSMTIpI"
      }
    },
    {
      "cell_type": "markdown",
      "source": [
        "## 1. Urlib"
      ],
      "metadata": {
        "id": "og6rdFiHEt9P"
      }
    },
    {
      "cell_type": "code",
      "execution_count": null,
      "metadata": {
        "id": "v-3UPS_qTH5V"
      },
      "outputs": [],
      "source": [
        "from  urllib.request import urlopen"
      ]
    },
    {
      "cell_type": "code",
      "source": [
        "url = \"https://quotes.toscrape.com\""
      ],
      "metadata": {
        "id": "AYzmT0wbTd3j"
      },
      "execution_count": null,
      "outputs": []
    },
    {
      "cell_type": "code",
      "source": [
        "resp = urlopen(url)"
      ],
      "metadata": {
        "id": "WiVp3ES_TeKI"
      },
      "execution_count": null,
      "outputs": []
    },
    {
      "cell_type": "code",
      "source": [
        "resp"
      ],
      "metadata": {
        "colab": {
          "base_uri": "https://localhost:8080/"
        },
        "id": "VvdOMtBTTrBu",
        "outputId": "6c8e0078-899d-4e84-f5e0-a3a7b9a77c76"
      },
      "execution_count": null,
      "outputs": [
        {
          "output_type": "execute_result",
          "data": {
            "text/plain": [
              "<http.client.HTTPResponse at 0x79ae9f268e50>"
            ]
          },
          "metadata": {},
          "execution_count": 4
        }
      ]
    },
    {
      "cell_type": "code",
      "source": [
        "resp.status"
      ],
      "metadata": {
        "colab": {
          "base_uri": "https://localhost:8080/"
        },
        "id": "EexXuQGuTzR2",
        "outputId": "3d7f9f40-87e6-4201-b5e7-6cf566674a3e"
      },
      "execution_count": null,
      "outputs": [
        {
          "output_type": "execute_result",
          "data": {
            "text/plain": [
              "200"
            ]
          },
          "metadata": {},
          "execution_count": 5
        }
      ]
    },
    {
      "cell_type": "code",
      "source": [
        "content = resp.read()"
      ],
      "metadata": {
        "id": "OYAiP2uvUc-g"
      },
      "execution_count": null,
      "outputs": []
    },
    {
      "cell_type": "code",
      "source": [
        "content"
      ],
      "metadata": {
        "id": "BAJJ6kLlUfjw"
      },
      "execution_count": null,
      "outputs": []
    },
    {
      "cell_type": "code",
      "source": [
        "content.decode(\"utf-8\")"
      ],
      "metadata": {
        "id": "5QtUrZlrUkJJ"
      },
      "execution_count": null,
      "outputs": []
    },
    {
      "cell_type": "code",
      "source": [
        "print(content.decode(\"utf-8\"))"
      ],
      "metadata": {
        "id": "ua0SGn7GUo0F"
      },
      "execution_count": null,
      "outputs": []
    },
    {
      "cell_type": "markdown",
      "source": [
        "## 2/3. Requests / Setting Headers"
      ],
      "metadata": {
        "id": "OwgKUdEqWiMc"
      }
    },
    {
      "cell_type": "code",
      "source": [
        "url = \"https://quotes.toscrape.com\""
      ],
      "metadata": {
        "id": "EtSjjTJtWoRa"
      },
      "execution_count": null,
      "outputs": []
    },
    {
      "cell_type": "code",
      "source": [
        "!pip install requests"
      ],
      "metadata": {
        "id": "F7Wds-QKXAC4"
      },
      "execution_count": null,
      "outputs": []
    },
    {
      "cell_type": "code",
      "source": [
        "import requests"
      ],
      "metadata": {
        "id": "FBuGUeYOXaVb"
      },
      "execution_count": null,
      "outputs": []
    },
    {
      "cell_type": "code",
      "source": [
        "resp = requests.get(url)"
      ],
      "metadata": {
        "id": "rJhSSUwZXcPy"
      },
      "execution_count": null,
      "outputs": []
    },
    {
      "cell_type": "code",
      "source": [
        "resp"
      ],
      "metadata": {
        "colab": {
          "base_uri": "https://localhost:8080/"
        },
        "id": "ZBJQNNylXhdV",
        "outputId": "e2178dea-bcc6-491f-a60a-97dd6bb11689"
      },
      "execution_count": null,
      "outputs": [
        {
          "output_type": "execute_result",
          "data": {
            "text/plain": [
              "<Response [200]>"
            ]
          },
          "metadata": {},
          "execution_count": 15
        }
      ]
    },
    {
      "cell_type": "code",
      "source": [
        "resp.status_code"
      ],
      "metadata": {
        "colab": {
          "base_uri": "https://localhost:8080/"
        },
        "id": "4yO4UQbtXlaP",
        "outputId": "2f7ecc03-eb39-46c8-d8fd-c89f1fe34c6a"
      },
      "execution_count": null,
      "outputs": [
        {
          "output_type": "execute_result",
          "data": {
            "text/plain": [
              "200"
            ]
          },
          "metadata": {},
          "execution_count": 17
        }
      ]
    },
    {
      "cell_type": "code",
      "source": [
        "resp.content"
      ],
      "metadata": {
        "id": "hYTgzgZsX2r3"
      },
      "execution_count": null,
      "outputs": []
    },
    {
      "cell_type": "code",
      "source": [
        "print(resp.content.decode(\"utf-8\"))"
      ],
      "metadata": {
        "id": "vLDTJkZkX_LD"
      },
      "execution_count": null,
      "outputs": []
    },
    {
      "cell_type": "code",
      "source": [
        "resp.headers"
      ],
      "metadata": {
        "id": "sVJTVL8nYXEl"
      },
      "execution_count": null,
      "outputs": []
    },
    {
      "cell_type": "code",
      "source": [
        "resp = requests.get(url, headers = {\"User-Agent\": \"Mozilla/5.0\"})"
      ],
      "metadata": {
        "id": "iKLUedYaZRKx"
      },
      "execution_count": null,
      "outputs": []
    },
    {
      "cell_type": "code",
      "source": [
        "resp = requests.get(\"https://httpbin.org/headers\")"
      ],
      "metadata": {
        "id": "wvCLI9NnaRk1"
      },
      "execution_count": null,
      "outputs": []
    },
    {
      "cell_type": "code",
      "source": [
        "resp"
      ],
      "metadata": {
        "colab": {
          "base_uri": "https://localhost:8080/"
        },
        "id": "goBSSeoSaw3C",
        "outputId": "bf4ecbab-150a-4c48-d252-d46cc5c28628"
      },
      "execution_count": null,
      "outputs": [
        {
          "output_type": "execute_result",
          "data": {
            "text/plain": [
              "<Response [200]>"
            ]
          },
          "metadata": {},
          "execution_count": 22
        }
      ]
    },
    {
      "cell_type": "code",
      "source": [
        "resp.json()"
      ],
      "metadata": {
        "colab": {
          "base_uri": "https://localhost:8080/"
        },
        "id": "kvvbpgMFaypL",
        "outputId": "0e5a82e0-a11d-4a77-b5db-2ab28b6940e3"
      },
      "execution_count": null,
      "outputs": [
        {
          "output_type": "execute_result",
          "data": {
            "text/plain": [
              "{'headers': {'Accept': '*/*',\n",
              "  'Accept-Encoding': 'gzip, deflate',\n",
              "  'Host': 'httpbin.org',\n",
              "  'User-Agent': 'python-requests/2.31.0',\n",
              "  'X-Amzn-Trace-Id': 'Root=1-64ee2fde-2a3492b62b28023505f51e0f'}}"
            ]
          },
          "metadata": {},
          "execution_count": 23
        }
      ]
    },
    {
      "cell_type": "code",
      "source": [
        "resp.request.headers"
      ],
      "metadata": {
        "colab": {
          "base_uri": "https://localhost:8080/"
        },
        "id": "OtZXbai5a2bQ",
        "outputId": "76ef48af-32cd-4841-9f15-f276abf8a398"
      },
      "execution_count": null,
      "outputs": [
        {
          "output_type": "execute_result",
          "data": {
            "text/plain": [
              "{'User-Agent': 'python-requests/2.31.0', 'Accept-Encoding': 'gzip, deflate', 'Accept': '*/*', 'Connection': 'keep-alive'}"
            ]
          },
          "metadata": {},
          "execution_count": 25
        }
      ]
    },
    {
      "cell_type": "code",
      "source": [
        "import requests as r"
      ],
      "metadata": {
        "id": "3tf2bVY3bI8L"
      },
      "execution_count": null,
      "outputs": []
    },
    {
      "cell_type": "markdown",
      "source": [
        "## 4. Query Parameters"
      ],
      "metadata": {
        "id": "eGWAglFNu-il"
      }
    },
    {
      "cell_type": "code",
      "source": [
        "url = \"https://api.coinbase.com/v2/exchange-rates?currency=BTC\"\n",
        "\n",
        "resp = r.get(url)"
      ],
      "metadata": {
        "id": "O4kUWyTBtAoI"
      },
      "execution_count": null,
      "outputs": []
    },
    {
      "cell_type": "code",
      "source": [
        "resp.json() ['data']['rates']['USD']"
      ],
      "metadata": {
        "colab": {
          "base_uri": "https://localhost:8080/",
          "height": 36
        },
        "id": "6FhXql7ftxaN",
        "outputId": "fc59fe0f-4989-4473-c1d6-ced33d5e4521"
      },
      "execution_count": null,
      "outputs": [
        {
          "output_type": "execute_result",
          "data": {
            "text/plain": [
              "'27936.58'"
            ],
            "application/vnd.google.colaboratory.intrinsic+json": {
              "type": "string"
            }
          },
          "metadata": {},
          "execution_count": 33
        }
      ]
    },
    {
      "cell_type": "code",
      "source": [
        "params = { 'currency' : 'BTC'}"
      ],
      "metadata": {
        "id": "w6Ni6yNluJU5"
      },
      "execution_count": null,
      "outputs": []
    },
    {
      "cell_type": "code",
      "source": [
        "resp = r.get(url, params=params)"
      ],
      "metadata": {
        "id": "Gba7heS5upF4"
      },
      "execution_count": null,
      "outputs": []
    },
    {
      "cell_type": "code",
      "source": [
        "url = 'https://api.sunrisesunset.io/json'"
      ],
      "metadata": {
        "id": "7yGGUPO1wtRm"
      },
      "execution_count": null,
      "outputs": []
    },
    {
      "cell_type": "code",
      "source": [
        "params = {\n",
        "    'lat' : -29.7201191,\n",
        "    'lng' : -53.7870161,\n",
        "    'timezone' : \t'America/Sao_Paulo',\n",
        "    'date' : 'today'\n",
        "}\n",
        "\n",
        "headers = {'user-agent' : 'Mozilla/5.0 (Windows NT 10.0; Win64; x64) AppleWebKit/537.36 (KHTML, like Gecko) Chrome/115.0.0.0 Safari/537.36 OPR/101.0.0.0'}"
      ],
      "metadata": {
        "id": "9ymakLFKw6Z7"
      },
      "execution_count": null,
      "outputs": []
    },
    {
      "cell_type": "code",
      "source": [
        "resp = r.get(url, params = params, headers = headers)"
      ],
      "metadata": {
        "id": "lBWpPw_KyquT"
      },
      "execution_count": null,
      "outputs": []
    },
    {
      "cell_type": "code",
      "source": [
        "resp.request.url"
      ],
      "metadata": {
        "colab": {
          "base_uri": "https://localhost:8080/",
          "height": 36
        },
        "id": "T6h2Rie2y1aJ",
        "outputId": "2b6f0360-a314-4cdd-d9e4-5d266ebcdb38"
      },
      "execution_count": null,
      "outputs": [
        {
          "output_type": "execute_result",
          "data": {
            "text/plain": [
              "'https://api.sunrisesunset.io/json?lat=-29.7201191&lng=-53.7870161&timezone=America%2FSao_Paulo&date=today'"
            ],
            "application/vnd.google.colaboratory.intrinsic+json": {
              "type": "string"
            }
          },
          "metadata": {},
          "execution_count": 44
        }
      ]
    },
    {
      "cell_type": "code",
      "source": [
        "resp.status_code"
      ],
      "metadata": {
        "colab": {
          "base_uri": "https://localhost:8080/"
        },
        "id": "CdyFulrbzvkd",
        "outputId": "3ddd36dd-c089-4f3e-8c57-18e3642f1dac"
      },
      "execution_count": null,
      "outputs": [
        {
          "output_type": "execute_result",
          "data": {
            "text/plain": [
              "200"
            ]
          },
          "metadata": {},
          "execution_count": 45
        }
      ]
    },
    {
      "cell_type": "markdown",
      "source": [],
      "metadata": {
        "id": "oe9KWwGi8hWs"
      }
    },
    {
      "cell_type": "markdown",
      "source": [
        "## 5. Authentication and Authorization"
      ],
      "metadata": {
        "id": "67VnYOUy8jIB"
      }
    },
    {
      "cell_type": "code",
      "source": [
        "API_KEY = \"MY_API_KEY\""
      ],
      "metadata": {
        "id": "S9zb5nl28rpC"
      },
      "execution_count": null,
      "outputs": []
    },
    {
      "cell_type": "code",
      "source": [
        "url = \"https://api.exchange.coinbase.com/fills\""
      ],
      "metadata": {
        "id": "1f_HUjT_9lTd"
      },
      "execution_count": null,
      "outputs": []
    },
    {
      "cell_type": "code",
      "source": [
        "headers ={\n",
        "    \"authorization\" : f\"Bearer {API_KEY}\",\n",
        "    \"Content-Type\" : \"application/json\"\n",
        "}"
      ],
      "metadata": {
        "id": "Wk8M-gp194hx"
      },
      "execution_count": null,
      "outputs": []
    },
    {
      "cell_type": "code",
      "source": [
        "r.get(url, headers = headers)"
      ],
      "metadata": {
        "id": "_KrvSUj5-V6l"
      },
      "execution_count": null,
      "outputs": []
    },
    {
      "cell_type": "markdown",
      "source": [
        "## 6. Aside From Get"
      ],
      "metadata": {
        "id": "phKKiJx1BUyJ"
      }
    },
    {
      "cell_type": "code",
      "source": [
        "import requests as r"
      ],
      "metadata": {
        "id": "Pr7tG_4SBZ0L"
      },
      "execution_count": 47,
      "outputs": []
    },
    {
      "cell_type": "code",
      "source": [
        "r.delete(\"http://httpbin.org/delete\").json()"
      ],
      "metadata": {
        "colab": {
          "base_uri": "https://localhost:8080/"
        },
        "id": "5krBrh3wBhXE",
        "outputId": "3d0f8b27-7368-4fba-8009-0827e9dbef58"
      },
      "execution_count": 46,
      "outputs": [
        {
          "output_type": "execute_result",
          "data": {
            "text/plain": [
              "{'args': {},\n",
              " 'data': '',\n",
              " 'files': {},\n",
              " 'form': {},\n",
              " 'headers': {'Accept': '*/*',\n",
              "  'Accept-Encoding': 'gzip, deflate',\n",
              "  'Content-Length': '0',\n",
              "  'Host': 'httpbin.org',\n",
              "  'User-Agent': 'python-requests/2.31.0',\n",
              "  'X-Amzn-Trace-Id': 'Root=1-64ee57e1-4d683b555a75a84204d5efe2'},\n",
              " 'json': None,\n",
              " 'origin': '34.125.14.67',\n",
              " 'url': 'http://httpbin.org/delete'}"
            ]
          },
          "metadata": {},
          "execution_count": 46
        }
      ]
    },
    {
      "cell_type": "code",
      "source": [
        "r.post(\"http://httpbin.org/post\").json()"
      ],
      "metadata": {
        "colab": {
          "base_uri": "https://localhost:8080/"
        },
        "id": "gTWFiRa9B6-4",
        "outputId": "eee4b64c-3d5f-409f-99e9-bad7751e4a14"
      },
      "execution_count": 48,
      "outputs": [
        {
          "output_type": "execute_result",
          "data": {
            "text/plain": [
              "{'args': {},\n",
              " 'data': '',\n",
              " 'files': {},\n",
              " 'form': {},\n",
              " 'headers': {'Accept': '*/*',\n",
              "  'Accept-Encoding': 'gzip, deflate',\n",
              "  'Content-Length': '0',\n",
              "  'Host': 'httpbin.org',\n",
              "  'User-Agent': 'python-requests/2.31.0',\n",
              "  'X-Amzn-Trace-Id': 'Root=1-64ee581e-66f0749b3436df2c23bcc990'},\n",
              " 'json': None,\n",
              " 'origin': '34.125.14.67',\n",
              " 'url': 'http://httpbin.org/patch'}"
            ]
          },
          "metadata": {},
          "execution_count": 48
        }
      ]
    },
    {
      "cell_type": "markdown",
      "source": [
        "## 7. Posting Data"
      ],
      "metadata": {
        "id": "AmxppnXTEkom"
      }
    },
    {
      "cell_type": "code",
      "source": [
        "resp = r.post(\"http://httpbin.org/post\", data={\"key1\" : \"value1\"})\n",
        "resp.json()"
      ],
      "metadata": {
        "colab": {
          "base_uri": "https://localhost:8080/"
        },
        "id": "ALt7Z0PbE5Am",
        "outputId": "039456e0-4ea6-43a5-9a83-955eb82e37fb"
      },
      "execution_count": 51,
      "outputs": [
        {
          "output_type": "execute_result",
          "data": {
            "text/plain": [
              "{'args': {},\n",
              " 'data': '',\n",
              " 'files': {},\n",
              " 'form': {'key1': 'value1'},\n",
              " 'headers': {'Accept': '*/*',\n",
              "  'Accept-Encoding': 'gzip, deflate',\n",
              "  'Content-Length': '11',\n",
              "  'Content-Type': 'application/x-www-form-urlencoded',\n",
              "  'Host': 'httpbin.org',\n",
              "  'User-Agent': 'python-requests/2.31.0',\n",
              "  'X-Amzn-Trace-Id': 'Root=1-64ee5b9e-4915e9516cc41927300b82a0'},\n",
              " 'json': None,\n",
              " 'origin': '34.125.14.67',\n",
              " 'url': 'http://httpbin.org/post'}"
            ]
          },
          "metadata": {},
          "execution_count": 51
        }
      ]
    },
    {
      "cell_type": "code",
      "source": [
        "resp.request.body"
      ],
      "metadata": {
        "colab": {
          "base_uri": "https://localhost:8080/",
          "height": 36
        },
        "id": "UX6nMJV4Fflv",
        "outputId": "57034b93-987b-40a4-c498-8801615942a2"
      },
      "execution_count": 52,
      "outputs": [
        {
          "output_type": "execute_result",
          "data": {
            "text/plain": [
              "'key1=value1'"
            ],
            "application/vnd.google.colaboratory.intrinsic+json": {
              "type": "string"
            }
          },
          "metadata": {},
          "execution_count": 52
        }
      ]
    },
    {
      "cell_type": "markdown",
      "source": [
        "# 5. Parsing And Extraction"
      ],
      "metadata": {
        "id": "8PJJJOK2F2dP"
      }
    }
  ]
}